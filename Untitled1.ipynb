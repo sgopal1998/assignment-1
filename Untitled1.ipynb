{
  "nbformat": 4,
  "nbformat_minor": 0,
  "metadata": {
    "colab": {
      "name": "Untitled1.ipynb",
      "provenance": [],
      "collapsed_sections": [],
      "authorship_tag": "ABX9TyNNz8DbAi+2SMGD3Fu1UcR9",
      "include_colab_link": true
    },
    "kernelspec": {
      "name": "python3",
      "display_name": "Python 3"
    }
  },
  "cells": [
    {
      "cell_type": "markdown",
      "metadata": {
        "id": "view-in-github",
        "colab_type": "text"
      },
      "source": [
        "<a href=\"https://colab.research.google.com/github/sgopal1998/assignment-1/blob/main/Untitled1.ipynb\" target=\"_parent\"><img src=\"https://colab.research.google.com/assets/colab-badge.svg\" alt=\"Open In Colab\"/></a>"
      ]
    },
    {
      "cell_type": "markdown",
      "metadata": {
        "id": "KsAzFTUSBbbm"
      },
      "source": [
        "factorial program"
      ]
    },
    {
      "cell_type": "code",
      "metadata": {
        "colab": {
          "base_uri": "https://localhost:8080/"
        },
        "id": "iLyfQ74q0bRg",
        "outputId": "9cd40710-8132-4bef-886f-6c749d6f2312"
      },
      "source": [
        "factorial=1\r\n",
        "a=int(input(\"enter a number \"))\r\n",
        "if a > 0:\r\n",
        " for i in range(1,a+1):\r\n",
        "   factorial=factorial*i\r\n",
        " print(\"the factorial of\",a,\"is\",factorial)"
      ],
      "execution_count": 6,
      "outputs": [
        {
          "output_type": "stream",
          "text": [
            "enter a number 5\n",
            "the factorial of 5 is 120\n"
          ],
          "name": "stdout"
        }
      ]
    },
    {
      "cell_type": "code",
      "metadata": {
        "id": "a5X1iDud2BJR"
      },
      "source": [
        ""
      ],
      "execution_count": null,
      "outputs": []
    },
    {
      "cell_type": "markdown",
      "metadata": {
        "id": "qVSGNxjuBZ77"
      },
      "source": [
        "sum of numbers"
      ]
    },
    {
      "cell_type": "code",
      "metadata": {
        "colab": {
          "base_uri": "https://localhost:8080/"
        },
        "id": "YeMAlBCrBhKh",
        "outputId": "96fa8de1-e8a1-4e22-c504-6ed7b8095dd1"
      },
      "source": [
        "n=int(input(\"enter the number \"))\r\n",
        "a=0\r\n",
        "while (n > 0):\r\n",
        " a=a+n\r\n",
        " n=n-1\r\n",
        "print(\"the sum is\",a)"
      ],
      "execution_count": 13,
      "outputs": [
        {
          "output_type": "stream",
          "text": [
            "enter the number 20\n",
            "the sum is 210\n"
          ],
          "name": "stdout"
        }
      ]
    },
    {
      "cell_type": "markdown",
      "metadata": {
        "id": "yI18nRqZGHQe"
      },
      "source": [
        "please discuss in class of prime number in interval"
      ]
    },
    {
      "cell_type": "code",
      "metadata": {
        "colab": {
          "base_uri": "https://localhost:8080/"
        },
        "id": "h1wAwdy5DNIv",
        "outputId": "e8e9425e-c830-4a0e-fdf4-ee51afe4a075"
      },
      "source": [
        "a=int(input(\"lower limit\"))\r\n",
        "b=int(input(\"upper limit\"))\r\n",
        "print(\"prime no. btwn\",a,\"and\",b,\"are:\")\r\n",
        "for n in range(a,b+1):\r\n",
        " if n>1:\r\n",
        "   for i in range(2,n//2+1):\r\n",
        "     if(n % i)==0:\r\n",
        "       break\r\n",
        "else:\r\n",
        "     print(n)       "
      ],
      "execution_count": 24,
      "outputs": [
        {
          "output_type": "stream",
          "text": [
            "lower limit1\n",
            "upper limit20\n",
            "prime no. btwn 1 and 20 are:\n",
            "20\n"
          ],
          "name": "stdout"
        }
      ]
    },
    {
      "cell_type": "code",
      "metadata": {
        "id": "5A4YvMpFHtbL"
      },
      "source": [
        ""
      ],
      "execution_count": null,
      "outputs": []
    }
  ]
}